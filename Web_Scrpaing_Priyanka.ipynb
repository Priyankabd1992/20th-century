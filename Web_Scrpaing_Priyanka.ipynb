{
 "cells": [
  {
   "cell_type": "code",
   "execution_count": 1,
   "id": "340968bd-65c0-43f4-953a-3d779923ebad",
   "metadata": {},
   "outputs": [
    {
     "name": "stdout",
     "output_type": "stream",
     "text": [
      "Scraping complete! Extracted text saved to '20th_century_scrape.txt'.\n"
     ]
    }
   ],
   "source": [
    "from selenium import webdriver\n",
    "from selenium.webdriver.chrome.service import Service\n",
    "from webdriver_manager.chrome import ChromeDriverManager\n",
    "from selenium.webdriver.chrome.options import Options\n",
    "from bs4 import BeautifulSoup\n",
    "\n",
    "# Step 1: Set up Selenium WebDriver with Chrome options\n",
    "chrome_options = Options()\n",
    "chrome_options.add_argument(\"--headless\")  # Run in headless mode\n",
    "chrome_options.add_argument(\"--no-sandbox\")\n",
    "service = Service(ChromeDriverManager().install())\n",
    "driver = webdriver.Chrome(service=service, options=chrome_options)\n",
    "\n",
    "try:\n",
    "    # Step 2: Get the Wikipedia page contents\n",
    "    Wiki_url = \"https://en.wikipedia.org/wiki/Key_events_of_the_20th_century\"\n",
    "    driver.get(Wiki_url)\n",
    "\n",
    "    # Step 3: Get the page's source HTML\n",
    "    html = driver.page_source\n",
    "\n",
    "    # Step 4: Parse the HTML using BeautifulSoup\n",
    "    soup = BeautifulSoup(html, \"html.parser\")\n",
    "\n",
    "    # Step 5: Extract all text from the page\n",
    "    text = soup.get_text()  # Full text from the page (may include noise)\n",
    "\n",
    "    # Step 6: Extract text from the \"bodyContent\" section (more specific)\n",
    "    body_content = soup.find(id=\"bodyContent\")\n",
    "    if body_content:  # Ensure the \"bodyContent\" section exists\n",
    "        text2 = body_content.get_text()\n",
    "    else:\n",
    "        text2 = \"No content found in 'bodyContent'.\"\n",
    "\n",
    "    # Step 7: Save the extracted text to a file\n",
    "    with open(\"20th_century_scrape.txt\", \"w\", encoding=\"utf-8\") as fp:\n",
    "        fp.write(text2)\n",
    "\n",
    "    print(\"Scraping complete! Extracted text saved to '20th_century_scrape.txt'.\")\n",
    "\n",
    "finally:\n",
    "    # Step 8: Quit the WebDriver\n",
    "    driver.quit()\n"
   ]
  },
  {
   "cell_type": "code",
   "execution_count": null,
   "id": "73cc3c23-6bd6-4aac-80ae-eb8ffa273de2",
   "metadata": {},
   "outputs": [],
   "source": []
  }
 ],
 "metadata": {
  "kernelspec": {
   "display_name": "Python [conda env:base] *",
   "language": "python",
   "name": "conda-base-py"
  },
  "language_info": {
   "codemirror_mode": {
    "name": "ipython",
    "version": 3
   },
   "file_extension": ".py",
   "mimetype": "text/x-python",
   "name": "python",
   "nbconvert_exporter": "python",
   "pygments_lexer": "ipython3",
   "version": "3.12.3"
  }
 },
 "nbformat": 4,
 "nbformat_minor": 5
}
