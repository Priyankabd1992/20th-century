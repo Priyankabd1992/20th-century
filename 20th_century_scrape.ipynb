{
 "cells": [
  {
   "cell_type": "code",
   "execution_count": 5,
   "id": "7af4c97c-1dfc-454d-b9e0-eda6a8be7958",
   "metadata": {},
   "outputs": [],
   "source": [
    "import time\n",
    "import logging\n",
    "import csv\n",
    "from selenium import webdriver\n",
    "from selenium.webdriver.chrome.service import Service\n",
    "from webdriver_manager.chrome import ChromeDriverManager\n",
    "from bs4 import BeautifulSoup\n",
    "from selenium.webdriver.common.by import By\n",
    "import requests"
   ]
  },
  {
   "cell_type": "code",
   "execution_count": 7,
   "id": "426e9b3d-08a2-4a7e-9325-3cd909d3049e",
   "metadata": {},
   "outputs": [],
   "source": [
    "# Set up logging\n",
    "logging.basicConfig(level=logging.DEBUG)\n"
   ]
  },
  {
   "cell_type": "code",
   "execution_count": 9,
   "id": "bb80dbb6-7117-46e1-86db-54fa106103f0",
   "metadata": {},
   "outputs": [
    {
     "name": "stderr",
     "output_type": "stream",
     "text": [
      "INFO:WDM:====== WebDriver manager ======\n",
      "INFO:WDM:Get LATEST chromedriver version for google-chrome\n",
      "DEBUG:urllib3.connectionpool:Starting new HTTPS connection (1): googlechromelabs.github.io:443\n",
      "DEBUG:urllib3.connectionpool:https://googlechromelabs.github.io:443 \"GET /chrome-for-testing/latest-patch-versions-per-build.json HTTP/11\" 200 9129\n",
      "INFO:WDM:Get LATEST chromedriver version for google-chrome\n",
      "DEBUG:urllib3.connectionpool:Starting new HTTPS connection (1): googlechromelabs.github.io:443\n",
      "DEBUG:urllib3.connectionpool:https://googlechromelabs.github.io:443 \"GET /chrome-for-testing/latest-patch-versions-per-build.json HTTP/11\" 200 9129\n",
      "INFO:WDM:Driver [C:\\Users\\sojan\\.wdm\\drivers\\chromedriver\\win64\\131.0.6778.264\\chromedriver-win32/chromedriver.exe] found in cache\n",
      "DEBUG:selenium.webdriver.common.driver_finder:Skipping Selenium Manager; path to chrome driver specified in Service class: C:\\Users\\sojan\\.wdm\\drivers\\chromedriver\\win64\\131.0.6778.264\\chromedriver-win32/chromedriver.exe\n",
      "DEBUG:selenium.webdriver.common.service:Started executable: `C:\\Users\\sojan\\.wdm\\drivers\\chromedriver\\win64\\131.0.6778.264\\chromedriver-win32/chromedriver.exe` in a child process with pid: 12560 using 0 to output -3\n",
      "DEBUG:selenium.webdriver.remote.remote_connection:POST http://localhost:63610/session {'capabilities': {'firstMatch': [{}], 'alwaysMatch': {'browserName': 'chrome', 'pageLoadStrategy': <PageLoadStrategy.normal: 'normal'>, 'goog:chromeOptions': {'extensions': [], 'args': []}}}}\n",
      "DEBUG:urllib3.connectionpool:Starting new HTTP connection (1): localhost:63610\n",
      "DEBUG:urllib3.connectionpool:http://localhost:63610 \"POST /session HTTP/11\" 200 0\n",
      "DEBUG:selenium.webdriver.remote.remote_connection:Remote response: status=200 | data={\"value\":{\"capabilities\":{\"acceptInsecureCerts\":false,\"browserName\":\"chrome\",\"browserVersion\":\"131.0.6778.265\",\"chrome\":{\"chromedriverVersion\":\"131.0.6778.264 (2d05e31515360f4da764174f7c448b33e36da871-refs/branch-heads/6778@{#4323})\",\"userDataDir\":\"C:\\\\Users\\\\sojan\\\\AppData\\\\Local\\\\Temp\\\\scoped_dir12560_423109116\"},\"fedcm:accounts\":true,\"goog:chromeOptions\":{\"debuggerAddress\":\"localhost:63613\"},\"networkConnectionEnabled\":false,\"pageLoadStrategy\":\"normal\",\"platformName\":\"windows\",\"proxy\":{},\"setWindowRect\":true,\"strictFileInteractability\":false,\"timeouts\":{\"implicit\":0,\"pageLoad\":300000,\"script\":30000},\"unhandledPromptBehavior\":\"dismiss and notify\",\"webauthn:extension:credBlob\":true,\"webauthn:extension:largeBlob\":true,\"webauthn:extension:minPinLength\":true,\"webauthn:extension:prf\":true,\"webauthn:virtualAuthenticators\":true},\"sessionId\":\"ec04a5b482a3d44e287b1960f97d56d0\"}} | headers=HTTPHeaderDict({'Content-Length': '883', 'Content-Type': 'application/json; charset=utf-8', 'cache-control': 'no-cache'})\n",
      "DEBUG:selenium.webdriver.remote.remote_connection:Finished Request\n"
     ]
    }
   ],
   "source": [
    "# Use webdriver_manager to automatically download the correct version of ChromeDriver\n",
    "service = Service(ChromeDriverManager().install())\n",
    "driver = webdriver.Chrome(service=service)"
   ]
  },
  {
   "cell_type": "code",
   "execution_count": 11,
   "id": "fb2ed718-d0c5-493e-a572-95b4d74bcbaa",
   "metadata": {},
   "outputs": [],
   "source": [
    "# URL of the \"Key Events of the 20th Century\" page\n",
    "url = 'https://en.wikipedia.org/wiki/Key_events_of_the_20th_century'\n"
   ]
  },
  {
   "cell_type": "code",
   "execution_count": 13,
   "id": "5d1d3e01-5c8f-4cdd-bf53-4cacc65c5547",
   "metadata": {},
   "outputs": [
    {
     "name": "stderr",
     "output_type": "stream",
     "text": [
      "DEBUG:selenium.webdriver.remote.remote_connection:POST http://localhost:63610/session/ec04a5b482a3d44e287b1960f97d56d0/url {'url': 'https://en.wikipedia.org/wiki/Key_events_of_the_20th_century'}\n",
      "DEBUG:urllib3.connectionpool:http://localhost:63610 \"POST /session/ec04a5b482a3d44e287b1960f97d56d0/url HTTP/11\" 200 0\n",
      "DEBUG:selenium.webdriver.remote.remote_connection:Remote response: status=200 | data={\"value\":null} | headers=HTTPHeaderDict({'Content-Length': '14', 'Content-Type': 'application/json; charset=utf-8', 'cache-control': 'no-cache'})\n",
      "DEBUG:selenium.webdriver.remote.remote_connection:Finished Request\n"
     ]
    }
   ],
   "source": [
    "driver.get(url)\n"
   ]
  },
  {
   "cell_type": "code",
   "execution_count": 15,
   "id": "ef06e7c9-87dc-4ab6-a22e-06c204227ed8",
   "metadata": {},
   "outputs": [
    {
     "name": "stderr",
     "output_type": "stream",
     "text": [
      "DEBUG:urllib3.connectionpool:Starting new HTTPS connection (1): en.wikipedia.org:443\n",
      "DEBUG:urllib3.connectionpool:https://en.wikipedia.org:443 \"GET /wiki/Key_events_of_the_20th_century HTTP/11\" 200 107340\n"
     ]
    }
   ],
   "source": [
    "response = requests.get(url)"
   ]
  },
  {
   "cell_type": "code",
   "execution_count": 17,
   "id": "77cd1f02-eac7-41d3-ad54-bbd2742cdca6",
   "metadata": {},
   "outputs": [
    {
     "data": {
      "text/plain": [
       "200"
      ]
     },
     "execution_count": 17,
     "metadata": {},
     "output_type": "execute_result"
    }
   ],
   "source": [
    "response.status_code"
   ]
  },
  {
   "cell_type": "code",
   "execution_count": 19,
   "id": "6f447b9c-3bc7-47e8-adaa-8a8850663c92",
   "metadata": {},
   "outputs": [
    {
     "data": {
      "text/plain": [
       "575415"
      ]
     },
     "execution_count": 19,
     "metadata": {},
     "output_type": "execute_result"
    }
   ],
   "source": [
    "len(response.text)"
   ]
  },
  {
   "cell_type": "code",
   "execution_count": 21,
   "id": "fa494e74-dc03-4eb5-b3cb-75261d7591f6",
   "metadata": {},
   "outputs": [],
   "source": [
    "page_contents = response.text"
   ]
  },
  {
   "cell_type": "code",
   "execution_count": 23,
   "id": "60613bf0-6929-4ad5-be44-c2c6d6170f17",
   "metadata": {},
   "outputs": [
    {
     "data": {
      "text/plain": [
       "'<!DOCTYPE html>\\n<html class=\"client-nojs vector-feature-language-in-header-enabled vector-feature-language-in-main-page-header-disabled vector-feature-sticky-header-disabled vector-feature-page-tools-pinned-disabled vector-feature-toc-pinned-clientpref-1 vector-feature-main-menu-pinned-disabled vector-feature-limited-width-clientpref-1 vector-feature-limited-width-content-enabled vector-feature-custom-font-size-clientpref-1 vector-feature-appearance-pinned-clientpref-1 vector-feature-night-mode-enabled skin-theme-clientpref-day vector-toc-available\" lang=\"en\" dir=\"ltr\">\\n<head>\\n<meta charset=\"UTF-8\">\\n<title>Key events of the 20th century - Wikipedia</title>\\n<script>(function(){var className=\"client-js vector-feature-language-in-header-enabled vector-feature-language-in-main-page-header-disabled vector-feature-sticky-header-disabled vector-feature-page-tools-pinned-disabled vector-feature-toc-pinned-clientpref-1 vector-feature-main-menu-pinned-disabled vector-feature-limited-width-client'"
      ]
     },
     "execution_count": 23,
     "metadata": {},
     "output_type": "execute_result"
    }
   ],
   "source": [
    "page_contents[:1000]"
   ]
  },
  {
   "cell_type": "code",
   "execution_count": 25,
   "id": "baa9b368-244d-44bc-a787-7eb11b3ff69b",
   "metadata": {},
   "outputs": [],
   "source": [
    "doc = BeautifulSoup(page_contents,'html.parser')"
   ]
  },
  {
   "cell_type": "code",
   "execution_count": 27,
   "id": "276b787d-210b-4a55-8dd4-1e8d6916ade0",
   "metadata": {},
   "outputs": [
    {
     "data": {
      "text/plain": [
       "bs4.BeautifulSoup"
      ]
     },
     "execution_count": 27,
     "metadata": {},
     "output_type": "execute_result"
    }
   ],
   "source": [
    "type(doc)"
   ]
  },
  {
   "cell_type": "code",
   "execution_count": 29,
   "id": "1db82a2a-1194-4f12-b261-a50e51f3977d",
   "metadata": {},
   "outputs": [],
   "source": [
    "with open('key_events.txt', 'w', encoding='utf-8') as f:\n",
    "    f.write(page_contents)\n"
   ]
  },
  {
   "cell_type": "code",
   "execution_count": 31,
   "id": "17914e42-64f0-4db7-b030-8eedd03c326a",
   "metadata": {},
   "outputs": [],
   "source": [
    "selection_class = \"mw-empty-elt\"\n",
    "p_tags = doc.find_all('p',{'class': selection_class})"
   ]
  },
  {
   "cell_type": "code",
   "execution_count": 33,
   "id": "b85b18ab-a6fb-4e9e-ba37-b00537eb04c5",
   "metadata": {},
   "outputs": [
    {
     "data": {
      "text/plain": [
       "1"
      ]
     },
     "execution_count": 33,
     "metadata": {},
     "output_type": "execute_result"
    }
   ],
   "source": [
    "len(p_tags)"
   ]
  },
  {
   "cell_type": "code",
   "execution_count": 35,
   "id": "741cd1e6-5ffd-4bad-9614-274640a620f0",
   "metadata": {},
   "outputs": [],
   "source": [
    "topic_title_tags = doc.find_all('a',{'class':'mw-redirect'})\n"
   ]
  },
  {
   "cell_type": "code",
   "execution_count": 37,
   "id": "6e3a46f6-f9b3-44c3-b9d1-406a1dc61774",
   "metadata": {},
   "outputs": [
    {
     "data": {
      "text/plain": [
       "231"
      ]
     },
     "execution_count": 37,
     "metadata": {},
     "output_type": "execute_result"
    }
   ],
   "source": [
    "len(topic_title_tags)"
   ]
  },
  {
   "cell_type": "code",
   "execution_count": 39,
   "id": "28e933be-0bcf-4b7d-bd70-1cfd737f17e6",
   "metadata": {},
   "outputs": [
    {
     "data": {
      "text/plain": [
       "[<a class=\"mw-redirect\" href=\"/wiki/World_Wars\" title=\"World Wars\">World Wars</a>,\n",
       " <a class=\"mw-redirect\" href=\"/wiki/Atomic_bomb\" title=\"Atomic bomb\">atomic bombs</a>,\n",
       " <a class=\"mw-redirect\" href=\"/wiki/Automobile\" title=\"Automobile\">automobile</a>,\n",
       " <a class=\"mw-redirect\" href=\"/wiki/Arrest_of_a_suspect_in_Sarajevo\" title=\"Arrest of a suspect in Sarajevo\">Arrest of a suspect in Sarajevo</a>,\n",
       " <a class=\"mw-redirect\" href=\"/wiki/Assassination_of_Archduke_Franz_Ferdinand_of_Austria\" title=\"Assassination of Archduke Franz Ferdinand of Austria\">Assassination in Sarajevo</a>]"
      ]
     },
     "execution_count": 39,
     "metadata": {},
     "output_type": "execute_result"
    }
   ],
   "source": [
    "topic_title_tags[:5]"
   ]
  },
  {
   "cell_type": "code",
   "execution_count": 41,
   "id": "43190945-a8f3-439e-b442-2cef5aab6b50",
   "metadata": {},
   "outputs": [
    {
     "data": {
      "text/plain": [
       "'World Wars'"
      ]
     },
     "execution_count": 41,
     "metadata": {},
     "output_type": "execute_result"
    }
   ],
   "source": [
    "topic_title_tags[0].text"
   ]
  },
  {
   "cell_type": "code",
   "execution_count": 43,
   "id": "af47f88b-3dd2-44a0-96e0-4c7628c18ad1",
   "metadata": {},
   "outputs": [
    {
     "name": "stdout",
     "output_type": "stream",
     "text": [
      "['World Wars', 'atomic bombs', 'automobile', 'Arrest of a suspect in Sarajevo', 'Assassination in Sarajevo', 'Austro-Hungarian Empire', 'Kars Oblast', 'U-boats', 'Stab-in-the-back legend', 'Kaiser Wilhelm', 'Crash of 29', 'Slavic', 'Munich Conference', 'authoritarian', 'Holocaust', 'European Jews', 'European Theater of World War II', 'Polish government in Exile', 'panzer', 'nonaggression pact', 'Molotov–Ribbentrop Pact', 'Phony War', 'Eben Emael', 'Free French', 'terror bombing', 'Stuka', 'Stalingrad', 'rations', 'U-boats', 'D-day', 'artificial harbours', 'SS', 'V-2', 'Franklin Roosevelt', 'Crimea', 'V-E Day', 'Asiatic-Pacific Theater', 'Mukden Incident', 'Marco Polo Bridge Incident', 'Nanjing', 'U.S. Pacific Fleet', 'Infamy Speech', 'British Burma', 'Guadalcanal', 'Japanese offensive in India', 'Burma', 'Borneo', 'China', 'amphibious assault', 'island hopping', 'Japanese home islands', 'Emperor Hirohito', 'Supreme Commander of the Allied Powers', 'The Nazis', 'Third Reich', 'SS', 'Human experimentation in Nazi Germany', 'Auschwitz', \"Jehovah's Witnesses\", 'nuclear weapons', 'nuclear reactions', 'Robert Oppenheimer', 'Trinity site', 'German atomic bomb program', 'Trinity', 'Joe-1', 'hydrogen bomb', 'thermonuclear', 'ICBM', 'Mutually Assured Destruction', 'United States', 'United Kingdom', 'China', 'Nuclear Non-proliferation Treaty', 'Axis', 'Nuremberg Trials', 'Axis', 'Tokyo War Crime Trial', \"People's Republic of Bangladesh\", 'Soviet Socialist Republics', \"People's Republics\", 'China', 'North Atlantic Treaty Organization (NATO)', 'Domino Theory', 'Saigon', 'Sputnik', 'Mercury', 'Gemini', 'rover-based space exploration', 'probes', 'Cold War (1985-1991)', 'cryptographical', 'operating systems', 'Storage']\n"
     ]
    }
   ],
   "source": [
    "topic_titles = []\n",
    "for tag in topic_title_tags:\n",
    "    topic_titles.append(tag.text)\n",
    "\n",
    "topic_titles = topic_titles[:94]\n",
    "print(topic_titles)"
   ]
  },
  {
   "cell_type": "code",
   "execution_count": 45,
   "id": "d9800229-0891-4ebd-a5a9-a2037ccf99da",
   "metadata": {},
   "outputs": [],
   "source": [
    "topic_desc_tags= doc.find_all('p')"
   ]
  },
  {
   "cell_type": "code",
   "execution_count": 47,
   "id": "bdfea8ae-d7a3-4ed3-8cec-461714bb00ab",
   "metadata": {},
   "outputs": [
    {
     "data": {
      "text/plain": [
       "94"
      ]
     },
     "execution_count": 47,
     "metadata": {},
     "output_type": "execute_result"
    }
   ],
   "source": [
    "len(topic_desc_tags)"
   ]
  },
  {
   "cell_type": "code",
   "execution_count": 49,
   "id": "e89c57ba-aa7e-462a-aa3d-1d4b6adbd6cc",
   "metadata": {},
   "outputs": [
    {
     "data": {
      "text/plain": [
       "[<p class=\"mw-empty-elt\">\n",
       " </p>,\n",
       " <p>The <a href=\"/wiki/20th_century\" title=\"20th century\">20th century</a> changed the world in unprecedented ways. The <a class=\"mw-redirect\" href=\"/wiki/World_Wars\" title=\"World Wars\">World Wars</a> sparked tension between countries and led to the creation of <a class=\"mw-redirect\" href=\"/wiki/Atomic_bomb\" title=\"Atomic bomb\">atomic bombs</a>, the <a href=\"/wiki/Cold_War\" title=\"Cold War\">Cold War</a> led to the <a href=\"/wiki/Space_Race\" title=\"Space Race\">Space Race</a> and the creation of space-based rockets, and the <a href=\"/wiki/World_Wide_Web\" title=\"World Wide Web\">World Wide Web</a> was created. These advancements have played a significant role in citizens' lives and shaped the <a href=\"/wiki/21st_century\" title=\"21st century\">21st century</a> into what it is today.\n",
       " </p>]"
      ]
     },
     "execution_count": 49,
     "metadata": {},
     "output_type": "execute_result"
    }
   ],
   "source": [
    "topic_desc_tags[:2]"
   ]
  },
  {
   "cell_type": "code",
   "execution_count": 51,
   "id": "d194d5be-8d0d-4428-9cb3-34509eb6bb0a",
   "metadata": {},
   "outputs": [
    {
     "name": "stdout",
     "output_type": "stream",
     "text": [
      "['', \"The 20th century changed the world in unprecedented ways. The World Wars sparked tension between countries and led to the creation of atomic bombs, the Cold War led to the Space Race and the creation of space-based rockets, and the World Wide Web was created. These advancements have played a significant role in citizens' lives and shaped the 21st century into what it is today.\", 'The new beginning of the 20th century marked significant changes. The 1900s saw the decade herald a series of inventions, including the automobile, airplane and radio broadcasting. 1914 saw the completion of the Panama Canal.', 'From 1914 to 1918, the First World War, and its aftermath, caused major changes in the power balance of the world, destroying or transforming some of the most powerful empires.', 'The First World War (or simply WWI), termed \"The Great War\" by contemporaries, started in July 1914 and ended in November 1918. The war was precipitated by the Assassination in Sarajevo of the Austro-Hungarian Empire\\'s heir to the throne, Erzherzog Franz Ferdinand, by Gavrilo Princip, a member of the Young Bosnia liberation movement. After a period of diplomatic and military escalation known as the July Crisis, by the end of July 1914 two coalitions were at war: the Allies, comprised initially of the British Empire, France, and the Russian Empire; and the Central Powers, comprised initially of the German Empire and Austria-Hungary. [1][2]']\n"
     ]
    }
   ],
   "source": [
    "topic_desc = []\n",
    "for tag in topic_desc_tags:\n",
    "    topic_desc.append(tag.text.strip())\n",
    "\n",
    "print(topic_desc[:5])"
   ]
  },
  {
   "cell_type": "code",
   "execution_count": 53,
   "id": "3d5d8a34-4539-4306-9fcb-d33bd6cdcfec",
   "metadata": {},
   "outputs": [
    {
     "data": {
      "text/plain": [
       "'/wiki/World_Wars'"
      ]
     },
     "execution_count": 53,
     "metadata": {},
     "output_type": "execute_result"
    }
   ],
   "source": [
    "topic_link_tags = topic_title_tags\n",
    "topic_link_tags [0]['href']"
   ]
  },
  {
   "cell_type": "code",
   "execution_count": 55,
   "id": "ceb5c5a6-097d-49f5-a1ae-584a1c22e32f",
   "metadata": {},
   "outputs": [
    {
     "name": "stdout",
     "output_type": "stream",
     "text": [
      "https://en.wikipedia.org/wiki/Key_events_of_the_20th_century/wiki/World_Wars\n"
     ]
    }
   ],
   "source": [
    "topic0_url = \"https://en.wikipedia.org/wiki/Key_events_of_the_20th_century\" + topic_link_tags [0]['href']\n",
    "print(topic0_url)"
   ]
  },
  {
   "cell_type": "code",
   "execution_count": 57,
   "id": "8e36f87e-be1c-4ab3-80c0-4c39410bfc3f",
   "metadata": {},
   "outputs": [
    {
     "name": "stdout",
     "output_type": "stream",
     "text": [
      "['https://en.wikipedia.org/wiki/Key_events_of_the_20th_century/wiki/World_Wars', 'https://en.wikipedia.org/wiki/Key_events_of_the_20th_century/wiki/Atomic_bomb', 'https://en.wikipedia.org/wiki/Key_events_of_the_20th_century/wiki/Automobile', 'https://en.wikipedia.org/wiki/Key_events_of_the_20th_century/wiki/Arrest_of_a_suspect_in_Sarajevo', 'https://en.wikipedia.org/wiki/Key_events_of_the_20th_century/wiki/Assassination_of_Archduke_Franz_Ferdinand_of_Austria', 'https://en.wikipedia.org/wiki/Key_events_of_the_20th_century/wiki/Austro-Hungarian_Empire', 'https://en.wikipedia.org/wiki/Key_events_of_the_20th_century/wiki/Kars_Oblast', 'https://en.wikipedia.org/wiki/Key_events_of_the_20th_century/wiki/U-boats', 'https://en.wikipedia.org/wiki/Key_events_of_the_20th_century/wiki/Stab-in-the-back_legend', 'https://en.wikipedia.org/wiki/Key_events_of_the_20th_century/wiki/Wilhelm_II,_German_Emperor', 'https://en.wikipedia.org/wiki/Key_events_of_the_20th_century/wiki/Wall_Street_Crash_of_1929', 'https://en.wikipedia.org/wiki/Key_events_of_the_20th_century/wiki/Slavic_peoples', 'https://en.wikipedia.org/wiki/Key_events_of_the_20th_century/wiki/Munich_Conference', 'https://en.wikipedia.org/wiki/Key_events_of_the_20th_century/wiki/Authoritarian', 'https://en.wikipedia.org/wiki/Key_events_of_the_20th_century/wiki/Holocaust', 'https://en.wikipedia.org/wiki/Key_events_of_the_20th_century/wiki/European_Jews', 'https://en.wikipedia.org/wiki/Key_events_of_the_20th_century/wiki/European_Theater_of_World_War_II', 'https://en.wikipedia.org/wiki/Key_events_of_the_20th_century/wiki/Polish_government_in_Exile', 'https://en.wikipedia.org/wiki/Key_events_of_the_20th_century/wiki/Panzer', 'https://en.wikipedia.org/wiki/Key_events_of_the_20th_century/wiki/Nonaggression_pact', 'https://en.wikipedia.org/wiki/Key_events_of_the_20th_century/wiki/Nazi-Soviet_Pact', 'https://en.wikipedia.org/wiki/Key_events_of_the_20th_century/wiki/Phony_War', 'https://en.wikipedia.org/wiki/Key_events_of_the_20th_century/wiki/Eben_Emael', 'https://en.wikipedia.org/wiki/Key_events_of_the_20th_century/wiki/Free_French', 'https://en.wikipedia.org/wiki/Key_events_of_the_20th_century/wiki/Terror_bombing', 'https://en.wikipedia.org/wiki/Key_events_of_the_20th_century/wiki/Stuka', 'https://en.wikipedia.org/wiki/Key_events_of_the_20th_century/wiki/Stalingrad', 'https://en.wikipedia.org/wiki/Key_events_of_the_20th_century/wiki/Ration', 'https://en.wikipedia.org/wiki/Key_events_of_the_20th_century/wiki/U-boats', 'https://en.wikipedia.org/wiki/Key_events_of_the_20th_century/wiki/D-day', 'https://en.wikipedia.org/wiki/Key_events_of_the_20th_century/wiki/Mulberry_Harbour', 'https://en.wikipedia.org/wiki/Key_events_of_the_20th_century/wiki/SS', 'https://en.wikipedia.org/wiki/Key_events_of_the_20th_century/wiki/V-2', 'https://en.wikipedia.org/wiki/Key_events_of_the_20th_century/wiki/Franklin_Delano_Roosevelt', 'https://en.wikipedia.org/wiki/Key_events_of_the_20th_century/wiki/Crimean_Peninsula', 'https://en.wikipedia.org/wiki/Key_events_of_the_20th_century/wiki/V-E_Day', 'https://en.wikipedia.org/wiki/Key_events_of_the_20th_century/wiki/Asiatic-Pacific_Theater', 'https://en.wikipedia.org/wiki/Key_events_of_the_20th_century/wiki/Mukden_Incident', 'https://en.wikipedia.org/wiki/Key_events_of_the_20th_century/wiki/Marco_Polo_Bridge_Incident', 'https://en.wikipedia.org/wiki/Key_events_of_the_20th_century/wiki/Battle_of_Nanjing', 'https://en.wikipedia.org/wiki/Key_events_of_the_20th_century/wiki/U.S._Pacific_Fleet', 'https://en.wikipedia.org/wiki/Key_events_of_the_20th_century/wiki/Infamy_Speech', 'https://en.wikipedia.org/wiki/Key_events_of_the_20th_century/wiki/British_Burma', 'https://en.wikipedia.org/wiki/Key_events_of_the_20th_century/wiki/Guadalcanal_Campaign', 'https://en.wikipedia.org/wiki/Key_events_of_the_20th_century/wiki/Burma_Campaign_1944', 'https://en.wikipedia.org/wiki/Key_events_of_the_20th_century/wiki/Burma_Campaign_1944%E2%80%9345', 'https://en.wikipedia.org/wiki/Key_events_of_the_20th_century/wiki/Borneo_campaign_(1945)', 'https://en.wikipedia.org/wiki/Key_events_of_the_20th_century/wiki/Second_Guangxi_Campaign', 'https://en.wikipedia.org/wiki/Key_events_of_the_20th_century/wiki/Amphibious_assault', 'https://en.wikipedia.org/wiki/Key_events_of_the_20th_century/wiki/Leapfrogging_(military)', 'https://en.wikipedia.org/wiki/Key_events_of_the_20th_century/wiki/Japanese_home_islands', 'https://en.wikipedia.org/wiki/Key_events_of_the_20th_century/wiki/Emperor_Hirohito', 'https://en.wikipedia.org/wiki/Key_events_of_the_20th_century/wiki/Supreme_Commander_of_the_Allied_Powers', 'https://en.wikipedia.org/wiki/Key_events_of_the_20th_century/wiki/The_Nazis', 'https://en.wikipedia.org/wiki/Key_events_of_the_20th_century/wiki/Third_Reich', 'https://en.wikipedia.org/wiki/Key_events_of_the_20th_century/wiki/SS', 'https://en.wikipedia.org/wiki/Key_events_of_the_20th_century/wiki/Human_experimentation_in_Nazi_Germany', 'https://en.wikipedia.org/wiki/Key_events_of_the_20th_century/wiki/Auschwitz', 'https://en.wikipedia.org/wiki/Key_events_of_the_20th_century/wiki/Jehovah%27s_Witness', 'https://en.wikipedia.org/wiki/Key_events_of_the_20th_century/wiki/Nuclear_weapons', 'https://en.wikipedia.org/wiki/Key_events_of_the_20th_century/wiki/Nuclear_reactions', 'https://en.wikipedia.org/wiki/Key_events_of_the_20th_century/wiki/Robert_Oppenheimer', 'https://en.wikipedia.org/wiki/Key_events_of_the_20th_century/wiki/Trinity_site', 'https://en.wikipedia.org/wiki/Key_events_of_the_20th_century/wiki/German_nuclear_energy_project', 'https://en.wikipedia.org/wiki/Key_events_of_the_20th_century/wiki/Trinity_site', 'https://en.wikipedia.org/wiki/Key_events_of_the_20th_century/wiki/Joe-1', 'https://en.wikipedia.org/wiki/Key_events_of_the_20th_century/wiki/Hydrogen_bomb', 'https://en.wikipedia.org/wiki/Key_events_of_the_20th_century/wiki/Thermonuclear', 'https://en.wikipedia.org/wiki/Key_events_of_the_20th_century/wiki/ICBM', 'https://en.wikipedia.org/wiki/Key_events_of_the_20th_century/wiki/Mutually_Assured_Destruction', 'https://en.wikipedia.org/wiki/Key_events_of_the_20th_century/wiki/The_United_States_and_weapons_of_mass_destruction', 'https://en.wikipedia.org/wiki/Key_events_of_the_20th_century/wiki/The_United_Kingdom_and_weapons_of_mass_destruction', 'https://en.wikipedia.org/wiki/Key_events_of_the_20th_century/wiki/People%27s_Republic_of_China_and_weapons_of_mass_destruction', 'https://en.wikipedia.org/wiki/Key_events_of_the_20th_century/wiki/Nuclear_Non-proliferation_Treaty', 'https://en.wikipedia.org/wiki/Key_events_of_the_20th_century/wiki/Axis_Powers', 'https://en.wikipedia.org/wiki/Key_events_of_the_20th_century/wiki/Nuremberg_Trials', 'https://en.wikipedia.org/wiki/Key_events_of_the_20th_century/wiki/Axis_Powers', 'https://en.wikipedia.org/wiki/Key_events_of_the_20th_century/wiki/Tokyo_War_Crime_Trial', 'https://en.wikipedia.org/wiki/Key_events_of_the_20th_century/wiki/People%E2%80%99s_Republic_of_Bangladesh', 'https://en.wikipedia.org/wiki/Key_events_of_the_20th_century/wiki/Republics_of_the_Soviet_Union', 'https://en.wikipedia.org/wiki/Key_events_of_the_20th_century/wiki/People%27s_Republic', 'https://en.wikipedia.org/wiki/Key_events_of_the_20th_century/wiki/People%27s_Republic_of_China', 'https://en.wikipedia.org/wiki/Key_events_of_the_20th_century/wiki/North_Atlantic_Treaty_Organization_(NATO)', 'https://en.wikipedia.org/wiki/Key_events_of_the_20th_century/wiki/Domino_Theory', 'https://en.wikipedia.org/wiki/Key_events_of_the_20th_century/wiki/Saigon', 'https://en.wikipedia.org/wiki/Key_events_of_the_20th_century/wiki/Sputnik', 'https://en.wikipedia.org/wiki/Key_events_of_the_20th_century/wiki/Mercury_program', 'https://en.wikipedia.org/wiki/Key_events_of_the_20th_century/wiki/Gemini_program', 'https://en.wikipedia.org/wiki/Key_events_of_the_20th_century/wiki/Lunokhod_program', 'https://en.wikipedia.org/wiki/Key_events_of_the_20th_century/wiki/Space_probe', 'https://en.wikipedia.org/wiki/Key_events_of_the_20th_century/wiki/Cold_War_(1985-1991)', 'https://en.wikipedia.org/wiki/Key_events_of_the_20th_century/wiki/Cryptographic', 'https://en.wikipedia.org/wiki/Key_events_of_the_20th_century/wiki/Operating_systems', 'https://en.wikipedia.org/wiki/Key_events_of_the_20th_century/wiki/Computer_storage']\n"
     ]
    }
   ],
   "source": [
    "topic_urls = []\n",
    "base_url = \"https://en.wikipedia.org/wiki/Key_events_of_the_20th_century\"\n",
    "for tag in topic_link_tags:\n",
    "    topic_urls.append(base_url + tag['href'])\n",
    "\n",
    "topic_urls = topic_urls[:94]\n",
    "\n",
    "print(topic_urls)"
   ]
  },
  {
   "cell_type": "code",
   "execution_count": 59,
   "id": "49b2ee3e-1f5e-4490-9154-7b3dea86594a",
   "metadata": {},
   "outputs": [],
   "source": [
    "import pandas as pd"
   ]
  },
  {
   "cell_type": "code",
   "execution_count": 61,
   "id": "f6cd48be-4ff9-4f8a-a143-99372039eee8",
   "metadata": {},
   "outputs": [],
   "source": [
    "topic_dict = {\n",
    "    'Events' : topic_titles,\n",
    "    'Description' : topic_desc,\n",
    "    'url' : topic_urls\n",
    "}"
   ]
  },
  {
   "cell_type": "code",
   "execution_count": 63,
   "id": "31785ce0-6c88-4cfa-8821-88c641b194b8",
   "metadata": {},
   "outputs": [],
   "source": [
    "topic_df = pd.DataFrame(topic_dict) "
   ]
  },
  {
   "cell_type": "code",
   "execution_count": 65,
   "id": "87c8984e-a5d0-40d6-a105-5d7a133cca1e",
   "metadata": {},
   "outputs": [
    {
     "data": {
      "text/html": [
       "<div>\n",
       "<style scoped>\n",
       "    .dataframe tbody tr th:only-of-type {\n",
       "        vertical-align: middle;\n",
       "    }\n",
       "\n",
       "    .dataframe tbody tr th {\n",
       "        vertical-align: top;\n",
       "    }\n",
       "\n",
       "    .dataframe thead th {\n",
       "        text-align: right;\n",
       "    }\n",
       "</style>\n",
       "<table border=\"1\" class=\"dataframe\">\n",
       "  <thead>\n",
       "    <tr style=\"text-align: right;\">\n",
       "      <th></th>\n",
       "      <th>Events</th>\n",
       "      <th>Description</th>\n",
       "      <th>url</th>\n",
       "    </tr>\n",
       "  </thead>\n",
       "  <tbody>\n",
       "    <tr>\n",
       "      <th>0</th>\n",
       "      <td>World Wars</td>\n",
       "      <td></td>\n",
       "      <td>https://en.wikipedia.org/wiki/Key_events_of_th...</td>\n",
       "    </tr>\n",
       "    <tr>\n",
       "      <th>1</th>\n",
       "      <td>atomic bombs</td>\n",
       "      <td>The 20th century changed the world in unpreced...</td>\n",
       "      <td>https://en.wikipedia.org/wiki/Key_events_of_th...</td>\n",
       "    </tr>\n",
       "    <tr>\n",
       "      <th>2</th>\n",
       "      <td>automobile</td>\n",
       "      <td>The new beginning of the 20th century marked s...</td>\n",
       "      <td>https://en.wikipedia.org/wiki/Key_events_of_th...</td>\n",
       "    </tr>\n",
       "    <tr>\n",
       "      <th>3</th>\n",
       "      <td>Arrest of a suspect in Sarajevo</td>\n",
       "      <td>From 1914 to 1918, the First World War, and it...</td>\n",
       "      <td>https://en.wikipedia.org/wiki/Key_events_of_th...</td>\n",
       "    </tr>\n",
       "    <tr>\n",
       "      <th>4</th>\n",
       "      <td>Assassination in Sarajevo</td>\n",
       "      <td>The First World War (or simply WWI), termed \"T...</td>\n",
       "      <td>https://en.wikipedia.org/wiki/Key_events_of_th...</td>\n",
       "    </tr>\n",
       "    <tr>\n",
       "      <th>...</th>\n",
       "      <td>...</td>\n",
       "      <td>...</td>\n",
       "      <td>...</td>\n",
       "    </tr>\n",
       "    <tr>\n",
       "      <th>89</th>\n",
       "      <td>probes</td>\n",
       "      <td>However, several problems face the world. The ...</td>\n",
       "      <td>https://en.wikipedia.org/wiki/Key_events_of_th...</td>\n",
       "    </tr>\n",
       "    <tr>\n",
       "      <th>90</th>\n",
       "      <td>Cold War (1985-1991)</td>\n",
       "      <td>Terrorism rose in the late century; the Oklaho...</td>\n",
       "      <td>https://en.wikipedia.org/wiki/Key_events_of_th...</td>\n",
       "    </tr>\n",
       "    <tr>\n",
       "      <th>91</th>\n",
       "      <td>cryptographical</td>\n",
       "      <td>Disease threatened to destabilize many regions...</td>\n",
       "      <td>https://en.wikipedia.org/wiki/Key_events_of_th...</td>\n",
       "    </tr>\n",
       "    <tr>\n",
       "      <th>92</th>\n",
       "      <td>operating systems</td>\n",
       "      <td>Perhaps most importantly, it was speculated th...</td>\n",
       "      <td>https://en.wikipedia.org/wiki/Key_events_of_th...</td>\n",
       "    </tr>\n",
       "    <tr>\n",
       "      <th>93</th>\n",
       "      <td>Storage</td>\n",
       "      <td>The celebration of the 20th century’s ending e...</td>\n",
       "      <td>https://en.wikipedia.org/wiki/Key_events_of_th...</td>\n",
       "    </tr>\n",
       "  </tbody>\n",
       "</table>\n",
       "<p>94 rows × 3 columns</p>\n",
       "</div>"
      ],
      "text/plain": [
       "                             Events  \\\n",
       "0                        World Wars   \n",
       "1                      atomic bombs   \n",
       "2                        automobile   \n",
       "3   Arrest of a suspect in Sarajevo   \n",
       "4         Assassination in Sarajevo   \n",
       "..                              ...   \n",
       "89                           probes   \n",
       "90             Cold War (1985-1991)   \n",
       "91                  cryptographical   \n",
       "92                operating systems   \n",
       "93                          Storage   \n",
       "\n",
       "                                          Description  \\\n",
       "0                                                       \n",
       "1   The 20th century changed the world in unpreced...   \n",
       "2   The new beginning of the 20th century marked s...   \n",
       "3   From 1914 to 1918, the First World War, and it...   \n",
       "4   The First World War (or simply WWI), termed \"T...   \n",
       "..                                                ...   \n",
       "89  However, several problems face the world. The ...   \n",
       "90  Terrorism rose in the late century; the Oklaho...   \n",
       "91  Disease threatened to destabilize many regions...   \n",
       "92  Perhaps most importantly, it was speculated th...   \n",
       "93  The celebration of the 20th century’s ending e...   \n",
       "\n",
       "                                                  url  \n",
       "0   https://en.wikipedia.org/wiki/Key_events_of_th...  \n",
       "1   https://en.wikipedia.org/wiki/Key_events_of_th...  \n",
       "2   https://en.wikipedia.org/wiki/Key_events_of_th...  \n",
       "3   https://en.wikipedia.org/wiki/Key_events_of_th...  \n",
       "4   https://en.wikipedia.org/wiki/Key_events_of_th...  \n",
       "..                                                ...  \n",
       "89  https://en.wikipedia.org/wiki/Key_events_of_th...  \n",
       "90  https://en.wikipedia.org/wiki/Key_events_of_th...  \n",
       "91  https://en.wikipedia.org/wiki/Key_events_of_th...  \n",
       "92  https://en.wikipedia.org/wiki/Key_events_of_th...  \n",
       "93  https://en.wikipedia.org/wiki/Key_events_of_th...  \n",
       "\n",
       "[94 rows x 3 columns]"
      ]
     },
     "execution_count": 65,
     "metadata": {},
     "output_type": "execute_result"
    }
   ],
   "source": [
    "topic_df"
   ]
  },
  {
   "cell_type": "markdown",
   "id": "c0652261-8eb1-49f3-a075-f7ff04d8a96f",
   "metadata": {},
   "source": [
    "### Create csv file with the extracted information.\n"
   ]
  },
  {
   "cell_type": "code",
   "execution_count": 68,
   "id": "3f969215-7c5b-4318-a8c0-62250ac5520d",
   "metadata": {},
   "outputs": [
    {
     "name": "stderr",
     "output_type": "stream",
     "text": [
      "<>:1: SyntaxWarning: invalid escape sequence '\\C'\n",
      "<>:1: SyntaxWarning: invalid escape sequence '\\C'\n",
      "C:\\Users\\sojan\\AppData\\Local\\Temp\\ipykernel_9496\\3409199113.py:1: SyntaxWarning: invalid escape sequence '\\C'\n",
      "  file_path = 'P:\\CarrerFoundy\\Data Visualizations with Python\\Exercise 1.4\\key_events_20th_century'\n"
     ]
    }
   ],
   "source": [
    "file_path = 'P:\\CarrerFoundy\\Data Visualizations with Python\\Exercise 1.4\\key_events_20th_century'"
   ]
  },
  {
   "cell_type": "code",
   "execution_count": 70,
   "id": "e9d4edcf-382f-4e3a-96c6-e49040ff0b03",
   "metadata": {},
   "outputs": [
    {
     "name": "stdout",
     "output_type": "stream",
     "text": [
      "Data has been successfully saved to P:\\CarrerFoundy\\Data Visualizations with Python\\Exercise 1.4\\key_events_20th_century\n"
     ]
    }
   ],
   "source": [
    "topic_df.to_csv(file_path, index=False)\n",
    "\n",
    "print(f\"Data has been successfully saved to {file_path}\")"
   ]
  },
  {
   "cell_type": "code",
   "execution_count": 72,
   "id": "391e7f86-b722-480e-82d4-c347dac81655",
   "metadata": {},
   "outputs": [],
   "source": [
    "topic_df.to_csv('key_events_20th_century.csv')"
   ]
  },
  {
   "cell_type": "code",
   "execution_count": null,
   "id": "0b7dfa97-c429-4245-953a-3f7d7182082d",
   "metadata": {},
   "outputs": [],
   "source": []
  }
 ],
 "metadata": {
  "kernelspec": {
   "display_name": "Python [conda env:base] *",
   "language": "python",
   "name": "conda-base-py"
  },
  "language_info": {
   "codemirror_mode": {
    "name": "ipython",
    "version": 3
   },
   "file_extension": ".py",
   "mimetype": "text/x-python",
   "name": "python",
   "nbconvert_exporter": "python",
   "pygments_lexer": "ipython3",
   "version": "3.12.3"
  }
 },
 "nbformat": 4,
 "nbformat_minor": 5
}
