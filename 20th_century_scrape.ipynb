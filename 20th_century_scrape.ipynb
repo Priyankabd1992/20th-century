{
 "cells": [
  {
   "cell_type": "code",
   "execution_count": 168,
   "id": "7af4c97c-1dfc-454d-b9e0-eda6a8be7958",
   "metadata": {},
   "outputs": [],
   "source": [
    "import time\n",
    "import logging\n",
    "import csv\n",
    "from selenium import webdriver\n",
    "from selenium.webdriver.chrome.service import Service\n",
    "from webdriver_manager.chrome import ChromeDriverManager\n",
    "from bs4 import BeautifulSoup\n",
    "from selenium.webdriver.common.by import By\n"
   ]
  },
  {
   "cell_type": "code",
   "execution_count": 170,
   "id": "426e9b3d-08a2-4a7e-9325-3cd909d3049e",
   "metadata": {},
   "outputs": [],
   "source": [
    "# Set up logging\n",
    "logging.basicConfig(level=logging.DEBUG)\n"
   ]
  },
  {
   "cell_type": "code",
   "execution_count": 172,
   "id": "bb80dbb6-7117-46e1-86db-54fa106103f0",
   "metadata": {},
   "outputs": [
    {
     "name": "stderr",
     "output_type": "stream",
     "text": [
      "INFO:WDM:====== WebDriver manager ======\n",
      "INFO:WDM:Get LATEST chromedriver version for google-chrome\n",
      "INFO:WDM:Get LATEST chromedriver version for google-chrome\n",
      "INFO:WDM:Driver [C:\\Users\\sojan\\.wdm\\drivers\\chromedriver\\win64\\131.0.6778.204\\chromedriver-win32/chromedriver.exe] found in cache\n"
     ]
    }
   ],
   "source": [
    "# Use webdriver_manager to automatically download the correct version of ChromeDriver\n",
    "service = Service(ChromeDriverManager().install())\n",
    "driver = webdriver.Chrome(service=service)"
   ]
  },
  {
   "cell_type": "code",
   "execution_count": 174,
   "id": "fb2ed718-d0c5-493e-a572-95b4d74bcbaa",
   "metadata": {},
   "outputs": [],
   "source": [
    "# URL of the \"Key Events of the 20th Century\" page\n",
    "url = 'https://en.wikipedia.org/wiki/Key_events_of_the_20th_century'\n"
   ]
  },
  {
   "cell_type": "code",
   "execution_count": 178,
   "id": "891877ba-aaf6-497e-bc4f-a53266b9f355",
   "metadata": {},
   "outputs": [
    {
     "name": "stdout",
     "output_type": "stream",
     "text": [
      "[<selenium.webdriver.remote.webelement.WebElement (session=\"cb551bcbcfd761cf115546c04df35fb3\", element=\"f.A8CB06052B253CF712C87611C6BEB6D7.d.07977A8C7905B5B01B3118CD9C7A84BF.e.19317\")>]\n"
     ]
    }
   ],
   "source": [
    "\n",
    "\n",
    "driver.get(url)\n",
    "\n",
    "# Find elements by div class \"vector-header-container\"\n",
    "header_containers = driver.find_elements(by=By.CLASS_NAME, value=\"vector-header-container\")\n",
    "print(header_containers)# Find elements by div class \"vector-header-container\"\n",
    "\n",
    "\n"
   ]
  },
  {
   "cell_type": "code",
   "execution_count": 148,
   "id": "73d11929-9158-42df-89d5-04944f257357",
   "metadata": {},
   "outputs": [],
   "source": [
    "# Open the URL with Selenium, with error handling\n",
    "try:\n",
    "    driver.get(url)\n",
    "    time.sleep(5)  # Allow the page to load completely\n",
    "except Exception as e:\n",
    "    logging.error(f\"Error occurred while opening the URL: {e}\")\n",
    "    driver.quit()\n",
    "    exit()"
   ]
  },
  {
   "cell_type": "code",
   "execution_count": 150,
   "id": "5e23a08d-4d44-464d-a08e-8f0318f9f6a8",
   "metadata": {},
   "outputs": [],
   "source": [
    "# Fetch the page source once it's fully loaded\n",
    "page_source = driver.page_source"
   ]
  },
  {
   "cell_type": "code",
   "execution_count": 152,
   "id": "9e01033f-1816-4093-a780-2fbe57ad0361",
   "metadata": {},
   "outputs": [],
   "source": [
    "# Use BeautifulSoup to parse the HTML content\n",
    "soup = BeautifulSoup(page_source, 'html.parser')"
   ]
  },
  {
   "cell_type": "code",
   "execution_count": 154,
   "id": "0829d7cf-168c-4d45-a423-11a9ecf660fb",
   "metadata": {},
   "outputs": [],
   "source": [
    "# Find all tables with the class 'wikitable'\n",
    "tables = soup.find_all('table', class_='wikitable')"
   ]
  },
  {
   "cell_type": "code",
   "execution_count": 156,
   "id": "dc46cb7e-6c4d-45ee-8f7f-adb305219fe4",
   "metadata": {},
   "outputs": [],
   "source": [
    "# List to store extracted events\n",
    "extracted_events = []"
   ]
  },
  {
   "cell_type": "code",
   "execution_count": 158,
   "id": "bcf1f475-ca95-4b26-8217-1ab5dee55f73",
   "metadata": {},
   "outputs": [],
   "source": [
    "# Extract data from the tables\n",
    "extracted_events = []\n",
    "for table in tables:\n",
    "    rows = table.find_all('tr')\n",
    "    for row in rows:\n",
    "        columns = row.find_all('td')\n",
    "        if columns:\n",
    "            event_data = [col.get_text(strip=True) for col in columns]\n",
    "            logging.debug(f\"Row data: {['1900', 'World at the beginning of the century']}\")  # Debug each row\n",
    "            extracted_events.append('World at the beginning of the century')"
   ]
  },
  {
   "cell_type": "code",
   "execution_count": 160,
   "id": "8271a178-25fe-4479-98a3-f2e811c5f70c",
   "metadata": {},
   "outputs": [],
   "source": [
    "# Close the driver after scraping\n",
    "driver.quit()"
   ]
  },
  {
   "cell_type": "code",
   "execution_count": 161,
   "id": "88f9267a-5bed-4301-9162-84b82a03085a",
   "metadata": {},
   "outputs": [
    {
     "name": "stderr",
     "output_type": "stream",
     "text": [
      "INFO:root:Data successfully written to P:\\CarrerFoundy\\Data Visualizations with Python\\Exercise 1.4\\key_events_20th_century.csv\n"
     ]
    }
   ],
   "source": [
    "import os\n",
    "import logging\n",
    "import csv\n",
    "\n",
    "# Correct and full path to the desired directory\n",
    "output_directory = r'P:\\CarrerFoundy\\Data Visualizations with Python\\Exercise 1.4'\n",
    "\n",
    "# Ensure the directory exists (create it if it doesn't)\n",
    "os.makedirs(output_directory, exist_ok=True)\n",
    "\n",
    "# Join the directory with the file name\n",
    "csv_file_path = os.path.join(output_directory, 'key_events_20th_century.csv')\n",
    "\n",
    "# Write the extracted events to the CSV file at the specified path\n",
    "try:\n",
    "    with open(csv_file_path, 'w', newline='', encoding='utf-8') as f:\n",
    "        writer = csv.writer(f)\n",
    "        writer.writerow(['Year', 'Event Description'])  # Example header, modify as needed\n",
    "        writer.writerows(extracted_events)              \n",
    "\n",
    "    logging.info(f\"Data successfully written to {csv_file_path}\")\n",
    "except PermissionError as e:\n",
    "    logging.error(f\"Permission error occurred: {e}\")\n",
    "except Exception as e:\n",
    "    logging.error(f\"An unexpected error occurred: {e}\")\n"
   ]
  },
  {
   "cell_type": "code",
   "execution_count": null,
   "id": "4ca366fc-cc8d-495a-9466-52a228de9439",
   "metadata": {},
   "outputs": [],
   "source": []
  }
 ],
 "metadata": {
  "kernelspec": {
   "display_name": "Python [conda env:base] *",
   "language": "python",
   "name": "conda-base-py"
  },
  "language_info": {
   "codemirror_mode": {
    "name": "ipython",
    "version": 3
   },
   "file_extension": ".py",
   "mimetype": "text/x-python",
   "name": "python",
   "nbconvert_exporter": "python",
   "pygments_lexer": "ipython3",
   "version": "3.12.3"
  }
 },
 "nbformat": 4,
 "nbformat_minor": 5
}
