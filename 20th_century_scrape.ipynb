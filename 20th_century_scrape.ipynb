{
 "cells": [
  {
   "cell_type": "code",
   "execution_count": 15,
   "id": "670c80a3-66f8-4043-9781-4b8e18c587e4",
   "metadata": {},
   "outputs": [],
   "source": [
    "from selenium import webdriver\n",
    "from webdriver_manager.chrome import ChromeDriverManager\n",
    "from selenium.webdriver.chrome.service import Service\n",
    "from selenium.webdriver.common.by import By\n",
    "from selenium.webdriver.common.desired_capabilities import DesiredCapabilities\n"
   ]
  },
  {
   "cell_type": "code",
   "execution_count": 16,
   "id": "bdf32435-0cb3-4728-8ad2-bc5c170665f3",
   "metadata": {},
   "outputs": [],
   "source": [
    "# Use a custom port for ChromeDriver\n",
    "service = Service(ChromeDriverManager().install())\n",
    "service.start()\n",
    "\n",
    "# Initialize the WebDriver\n",
    "driver = webdriver.Chrome(service=service, options=chrome_options)\n"
   ]
  },
  {
   "cell_type": "code",
   "execution_count": 17,
   "id": "e9782d90-0eeb-4460-bfbe-b9b9f1a84759",
   "metadata": {},
   "outputs": [],
   "source": [
    "# URL of the \"Key Events of the 20th Century\" page \n",
    "url = 'https://en.wikipedia.org/wiki/Key_events_of_the_20th_century'"
   ]
  },
  {
   "cell_type": "code",
   "execution_count": 18,
   "id": "02824671-c786-418a-9bfd-2f876446ed73",
   "metadata": {},
   "outputs": [],
   "source": [
    "# Open the URL with Selenium\n",
    "driver.get(url)"
   ]
  },
  {
   "cell_type": "code",
   "execution_count": 19,
   "id": "e47a1256-5971-474b-8646-a809846fc2a9",
   "metadata": {},
   "outputs": [],
   "source": [
    "# Fetch the page source once it's fully loaded\n",
    "page_source = driver.page_source\n"
   ]
  },
  {
   "cell_type": "code",
   "execution_count": 20,
   "id": "1efb0e4b-542d-4fc8-a8cc-c1337e9f0474",
   "metadata": {},
   "outputs": [],
   "source": [
    "# Use BeautifulSoup to parse the HTML content\n",
    "from bs4 import BeautifulSoup\n",
    "soup = BeautifulSoup(page_source, 'html.parser')"
   ]
  },
  {
   "cell_type": "code",
   "execution_count": 21,
   "id": "1c2b5b45-ef8b-417f-a888-4ca0ab36121a",
   "metadata": {},
   "outputs": [],
   "source": [
    "# Example: Find and extract the events from a specific section (update the tag/class to match the page structure)\n",
    "events_section = soup.find_all('div', class_='wikitable')  # Example tag/clas"
   ]
  },
  {
   "cell_type": "code",
   "execution_count": 22,
   "id": "31570564-69ff-4eae-94bb-d291e8ca6d6b",
   "metadata": {},
   "outputs": [],
   "source": [
    "# Loop through the events and print them\n",
    "for event in events_section:\n",
    "    print(event.get_text(strip=True))\n",
    "\n",
    "# Close the driver after scraping\n",
    "driver.quit()"
   ]
  },
  {
   "cell_type": "code",
   "execution_count": null,
   "id": "7af4c97c-1dfc-454d-b9e0-eda6a8be7958",
   "metadata": {},
   "outputs": [],
   "source": []
  }
 ],
 "metadata": {
  "kernelspec": {
   "display_name": "Python [conda env:base] *",
   "language": "python",
   "name": "conda-base-py"
  },
  "language_info": {
   "codemirror_mode": {
    "name": "ipython",
    "version": 3
   },
   "file_extension": ".py",
   "mimetype": "text/x-python",
   "name": "python",
   "nbconvert_exporter": "python",
   "pygments_lexer": "ipython3",
   "version": "3.12.3"
  }
 },
 "nbformat": 4,
 "nbformat_minor": 5
}
