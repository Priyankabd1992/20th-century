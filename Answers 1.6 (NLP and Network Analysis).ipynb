{
 "cells": [
  {
   "cell_type": "markdown",
   "id": "0dcdc74d-5523-4523-a535-169cbe6b219c",
   "metadata": {},
   "source": [
    "### 1. Installed the necessary libraries from the requirements.txt file."
   ]
  },
  {
   "cell_type": "markdown",
   "id": "54faa21b-4635-4c0a-9b81-18a7426763aa",
   "metadata": {},
   "source": [
    "### 2. Started a new notebook in JupyterLab and imported the libraries."
   ]
  },
  {
   "cell_type": "code",
   "execution_count": 1,
   "id": "42fcb5f7-931d-4f4c-829f-2e41c2b6d4be",
   "metadata": {},
   "outputs": [],
   "source": [
    "import pandas as pd\n",
    "import numpy as np\n",
    "import spacy\n",
    "from spacy import displacy\n",
    "import networkx as nx\n",
    "import os\n",
    "import matplotlib.pyplot as plt\n",
    "import scipy\n",
    "import re"
   ]
  },
  {
   "cell_type": "code",
   "execution_count": 2,
   "id": "e57e20c9-c53f-4cb8-b171-f07434b4a4f8",
   "metadata": {},
   "outputs": [
    {
     "name": "stderr",
     "output_type": "stream",
     "text": [
      "C:\\Users\\sojan\\anaconda3\\python.exe: No module named spacy\n"
     ]
    }
   ],
   "source": [
    "# Download English module\n",
    "\n",
    "!python -m spacy download en_core_web_sm"
   ]
  },
  {
   "cell_type": "code",
   "execution_count": 5,
   "id": "3f56f3fa-a871-4454-b50f-b5f86371fb5f",
   "metadata": {},
   "outputs": [],
   "source": [
    "\n",
    "import spacy\n",
    "\n",
    "# Load the small English model\n",
    "NER = spacy.load(\"en_core_web_sm\")\n",
    "\n"
   ]
  },
  {
   "cell_type": "markdown",
   "id": "67139fe3-8aaa-4c06-90d7-f1e2299bb8b3",
   "metadata": {},
   "source": [
    "### 3. Loaded the twentieth-century text file."
   ]
  },
  {
   "cell_type": "code",
   "execution_count": 7,
   "id": "fb71a8c5-7e2e-4081-a53a-579aa7375bd2",
   "metadata": {},
   "outputs": [
    {
     "name": "stdout",
     "output_type": "stream",
     "text": [
      "\n",
      "\n",
      "\n",
      "\n",
      "From Wikipedia, the free encyclopedia\n",
      "\n",
      "\n",
      "\n",
      "The 20th century changed the world in unprecedented ways. The World Wars sparked tension between countries and led to the creation of atomic bombs, the Cold War led to the Space Race and the creation of space-based rockets, and the World Wide Web was created. These advancements have played a significant role in citizens' lives and shaped the 21st century into what it is today.\n",
      "\n",
      "\n",
      "Historic events in the 20th century[edit]\n",
      "World at the beginning of the c\n"
     ]
    }
   ],
   "source": [
    "# Define the file path\n",
    "file_path = r\"P:\\CarrerFoundy\\Data Visualizations with Python\\Exercise 1.6\\20th_century_scrape.txt\"\n",
    "\n",
    "# Open and read the file\n",
    "with open(file_path, 'r', encoding='utf-8') as file:\n",
    "    text_data = file.read()\n",
    "\n",
    "# Display the first few lines\n",
    "print(text_data[:500])  # Prints the first 500 characters\n"
   ]
  },
  {
   "cell_type": "markdown",
   "id": "c822e648-eba6-49c8-90d8-896aa509c50f",
   "metadata": {},
   "source": [
    "### 4. Evaluated the text needs wrangling."
   ]
  },
  {
   "cell_type": "code",
   "execution_count": 9,
   "id": "ea7cbe1f-31b9-4a56-93b8-d02869f6b135",
   "metadata": {},
   "outputs": [
    {
     "name": "stdout",
     "output_type": "stream",
     "text": [
      "{'í', '^', ':', '／', '—', '°', '=', \"'\", '.', ')', '\"', '/', '[', 'ö', '–', '_', '?', '縄', '|', '沖', ']', 'é', '-', 'ã', '!', ';', '県', '(', ',', '&', '’'}\n"
     ]
    }
   ],
   "source": [
    "import re\n",
    "\n",
    "# Find all non-alphanumeric characters except spaces\n",
    "special_chars = re.findall(r'[^a-zA-Z0-9\\s]', text_data)\n",
    "\n",
    "# Display unique special characters found\n",
    "unique_special_chars = set(special_chars)\n",
    "print(unique_special_chars)\n"
   ]
  },
  {
   "cell_type": "code",
   "execution_count": 52,
   "id": "edb16a30-d3e6-48bb-bf5f-86eb9dbc7e72",
   "metadata": {},
   "outputs": [
    {
     "name": "stdout",
     "output_type": "stream",
     "text": [
      "Andorra not found in the text.\n",
      "Antigua and Barbuda not found in the text.\n",
      "Argentina not found in the text.\n",
      "Armenia not found in the text.\n",
      "Azerbaijan not found in the text.\n",
      "Bahamas not found in the text.\n",
      "Bahrain not found in the text.\n",
      "Barbados not found in the text.\n",
      "Belize not found in the text.\n",
      "Benin not found in the text.\n",
      "Bhutan not found in the text.\n",
      "Bolivia not found in the text.\n",
      "Bosnia and Herzegovina not found in the text.\n",
      "Botswana not found in the text.\n",
      "Brazil not found in the text.\n",
      "Brunei not found in the text.\n",
      "Burkina Faso not found in the text.\n",
      "Burundi not found in the text.\n",
      "Cameroon not found in the text.\n",
      "Central African Republic not found in the text.\n",
      "Chad not found in the text.\n",
      "Chile not found in the text.\n",
      "People's Republic of Colombia not found in the text.\n",
      "Comoros not found in the text.\n",
      "Democratic Republic of the Congo not found in the text.\n",
      "Republic of Costa Rica not found in the text.\n",
      "Croatia not found in the text.\n",
      "Cyprus not found in the text.\n",
      "Czech Republic not found in the text.\n",
      "Djibouti not found in the text.\n",
      "Dominica not found in the text.\n",
      "Dominican Republic not found in the text.\n",
      "East Timor not found in the text.\n",
      "Ecuador not found in the text.\n",
      "El Salvador not found in the text.\n",
      "Equatorial Guinea not found in the text.\n",
      "Eritrea not found in the text.\n",
      "Eswatini not found in the text.\n",
      "Ethiopia not found in the text.\n",
      "Fiji not found in the text.\n",
      "Gabon not found in the text.\n",
      "Gambia not found in the text.\n",
      "Georgia not found in the text.\n",
      "Grenada not found in the text.\n",
      "Guatemala not found in the text.\n",
      "Guyana not found in the text.\n",
      "Haiti not found in the text.\n",
      "Honduras not found in the text.\n",
      "Iceland not found in the text.\n",
      "Indonesia not found in the text.\n",
      "Ireland not found in the text.\n",
      "Ivory Coast not found in the text.\n",
      "Jamaica not found in the text.\n",
      "Jordan not found in the text.\n",
      "Kazakhstan not found in the text.\n",
      "Kiribati not found in the text.\n",
      "Kuwait not found in the text.\n",
      "Kyrgyzstan not found in the text.\n",
      "Lesotho not found in the text.\n",
      "Liberia not found in the text.\n",
      "Liechtenstein not found in the text.\n",
      "Madagascar not found in the text.\n",
      "Malawi not found in the text.\n",
      "Malaysia not found in the text.\n",
      "Maldives not found in the text.\n",
      "Mali not found in the text.\n",
      "Malta not found in the text.\n",
      "Marshall Islands not found in the text.\n",
      "Mauritania not found in the text.\n",
      "Mauritius not found in the text.\n",
      "Micronesia not found in the text.\n",
      "Federated States of Moldova not found in the text.\n",
      "Monaco not found in the text.\n",
      "Montenegro not found in the text.\n",
      "Myanmar not found in the text.\n",
      "Namibia not found in the text.\n",
      "Nauru not found in the text.\n",
      "Nepal not found in the text.\n",
      "New Zealand not found in the text.\n",
      "Nicaragua not found in the text.\n",
      "North Macedonia not found in the text.\n",
      "Oman not found in the text.\n",
      "Palau not found in the text.\n",
      "Palestine not found in the text.\n",
      "Paraguay not found in the text.\n",
      "Peru not found in the text.\n",
      "Portugal not found in the text.\n",
      "Qatar not found in the text.\n",
      "Rwanda not found in the text.\n",
      "Saint Kitts and Nevis not found in the text.\n",
      "Saint Lucia not found in the text.\n",
      "Saint Vincent and the Grenadines not found in the text.\n",
      "Samoa not found in the text.\n",
      "San Marino not found in the text.\n",
      "SÃ£o TomÃ© and PrÃ­ncipe not found in the text.\n",
      "Saudi Arabia not found in the text.\n",
      "Senegal not found in the text.\n",
      "Serbia not found in the text.\n",
      "Sierra Leone not found in the text.\n",
      "Slovakia not found in the text.\n",
      "Slovenia not found in the text.\n",
      "Somalia not found in the text.\n",
      "South Sudan not found in the text.\n",
      "Sri Lanka not found in the text.\n",
      "Suriname not found in the text.\n",
      "Switzerland not found in the text.\n",
      "Syria not found in the text.\n",
      "Tajikistan not found in the text.\n",
      "Tanzania not found in the text.\n",
      "Togo not found in the text.\n",
      "Tonga not found in the text.\n",
      "Trinidad and Tobago not found in the text.\n",
      "Tunisia not found in the text.\n",
      "Turkey not found in the text.\n",
      "Turkmenistan not found in the text.\n",
      "Tuvalu not found in the text.\n",
      "Uganda not found in the text.\n",
      "United Arab Emirates not found in the text.\n",
      "Uruguay not found in the text.\n",
      "Uzbekistan not found in the text.\n",
      "Vanuatu not found in the text.\n",
      "Vatican City (Holy See) not found in the text.\n",
      "Venezuela not found in the text.\n",
      "Yemen not found in the text.\n",
      "Zambia not found in the text.\n",
      "Zimbabwe not found in the text.\n",
      "Abkhazia not found in the text.\n",
      "Artsakh not found in the text.\n",
      "Cook Islands not found in the text.\n",
      "Donetsk People's Republic not found in the text.\n",
      "Kosovo not found in the text.\n",
      "Luhansk People's Republic not found in the text.\n",
      "Niue not found in the text.\n",
      "Northern Cyprus not found in the text.\n",
      "Sahrawi Arab Democratic Republic not found in the text.\n",
      "Somaliland not found in the text.\n",
      "South Ossetia not found in the text.\n",
      "Taiwan not found in the text.\n",
      "Transnistria not found in the text.\n"
     ]
    }
   ],
   "source": [
    "# Example list of country names (can be extended)\n",
    "countries =  [\n",
    "    \"Afghanistan\", \"Albania\", \"Algeria\", \"Andorra\", \"Angola\", \"Antigua and Barbuda\", \"Argentina\", \"Armenia\",\n",
    "    \"Australia\", \"Austria\", \"Azerbaijan\", \"Bahamas\", \"Bahrain\", \"Bangladesh\", \"Barbados\", \"Belarus\", \"Belgium\",\n",
    "    \"Belize\", \"Benin\", \"Bhutan\", \"Bolivia\", \"Bosnia and Herzegovina\", \"Botswana\", \"Brazil\", \"Brunei\", \"Bulgaria\",\n",
    "    \"Burkina Faso\", \"Burundi\", \"Cambodia\", \"Cameroon\", \"Canada\", \"Cape Verde\", \"Central African Republic\", \n",
    "    \"Chad\", \"Chile\", \"China\", \"People's Republic of Colombia\", \"Comoros\", \"Congo\", \"Democratic Republic of the Congo\",\n",
    "    \"Republic of Costa Rica\", \"Croatia\", \"Cuba\", \"Cyprus\", \"Czech Republic\", \"Denmark\", \"Djibouti\", \"Dominica\", \n",
    "    \"Dominican Republic\", \"East Timor\", \"Ecuador\", \"Egypt\", \"El Salvador\", \"Equatorial Guinea\", \"Eritrea\", \n",
    "    \"Estonia\", \"Eswatini\", \"Ethiopia\", \"Fiji\", \"Finland\", \"France\", \"Gabon\", \"Gambia\", \"Georgia\", \"Germany\", \n",
    "    \"Ghana\", \"Greece\", \"Grenada\", \"Guatemala\", \"Guinea\", \"Guinea-Bissau\", \"Guyana\", \"Haiti\", \"Honduras\", \n",
    "    \"Hungary\", \"Iceland\", \"India\", \"Indonesia\", \"Iran\", \"Iraq\", \"Ireland\", \"Israel\", \"Italy\", \"Ivory Coast\", \n",
    "    \"Jamaica\", \"Japan\", \"Jordan\", \"Kazakhstan\", \"Kenya\", \"Kiribati\", \"Korea\", \"North Korea\", \"South Korea\", \n",
    "    \"Kuwait\", \"Kyrgyzstan\", \"Laos\", \"Latvia\", \"Lebanon\", \"Lesotho\", \"Liberia\", \"Libya\", \"Liechtenstein\", \n",
    "    \"Lithuania\", \"Luxembourg\", \"Madagascar\", \"Malawi\", \"Malaysia\", \"Maldives\", \"Mali\", \"Malta\", \"Marshall Islands\", \n",
    "    \"Mauritania\", \"Mauritius\", \"Mexico\", \"Micronesia\", \"Federated States of Moldova\", \"Monaco\", \"Mongolia\", \n",
    "    \"Montenegro\", \"Morocco\", \"Mozambique\", \"Myanmar\", \"Namibia\", \"Nauru\", \"Nepal\", \"Netherlands\", \n",
    "    \"New Zealand\", \"Nicaragua\", \"Niger\", \"Nigeria\", \"North Macedonia\", \"Norway\", \"Oman\", \"Pakistan\", \n",
    "    \"Palau\", \"Palestine\", \"Panama\", \"Papua New Guinea\", \"Paraguay\", \"Peru\", \"Philippines\", \"Poland\", \"Portugal\", \n",
    "    \"Qatar\", \"Romania\", \"Russia\", \"Rwanda\", \"Saint Kitts and Nevis\", \"Saint Lucia\", \"Saint Vincent and the Grenadines\", \n",
    "    \"Samoa\", \"San Marino\", \"SÃ£o TomÃ© and PrÃ­ncipe\", \"Saudi Arabia\", \"Senegal\", \"Serbia\", \"Seychelles\", \n",
    "    \"Sierra Leone\", \"Singapore\", \"Slovakia\", \"Slovenia\", \"Solomon Islands\", \"Somalia\", \"South Africa\", \"South Sudan\", \n",
    "    \"Spain\", \"Sri Lanka\", \"Sudan\", \"Suriname\", \"Sweden\", \"Switzerland\", \"Syria\", \"Tajikistan\", \"Tanzania\", \n",
    "    \"Thailand\", \"Togo\", \"Tonga\", \"Trinidad and Tobago\", \"Tunisia\", \"Turkey\", \"Turkmenistan\", \"Tuvalu\", \n",
    "    \"Uganda\", \"Ukraine\", \"United Arab Emirates\", \"United Kingdom\", \"United States\", \"Uruguay\", \"Uzbekistan\", \n",
    "    \"Vanuatu\", \"Vatican City (Holy See)\", \"Venezuela\", \"Vietnam\", \"Yemen\", \"Zambia\", \"Zimbabwe\", \"Abkhazia\", \n",
    "    \"Artsakh\", \"Cook Islands\", \"Donetsk People's Republic\", \"Kosovo\", \"Luhansk People's Republic\", \"Niue\", \n",
    "    \"Northern Cyprus\", \"Sahrawi Arab Democratic Republic\", \"Somaliland\", \"South Ossetia\", \"Taiwan\", \"Transnistria\"\n",
    "]\n",
    "\n",
    "# Check if these countries are mentioned in the text\n",
    "for country in countries:\n",
    "    if country not in text_data:\n",
    "        print(f\"{country} not found in the text.\")\n"
   ]
  },
  {
   "cell_type": "markdown",
   "id": "58cc167f-a498-4640-83c6-95d091a8dbe9",
   "metadata": {},
   "source": [
    "### Text Wrangling Observations\n",
    "\n",
    "1. **Special Characters**: \n",
    "   - The text contains the following special characters: [list of characters].\n",
    "   - Some of these may need to be removed or replaced depending on their context in the text.\n",
    "\n",
    "2. **Country Names**:\n",
    "   - The following country names from our list were not found in the text: [list of countries].\n",
    "   - Ensure the names are correctly spelled and consistent with the list.\n",
    "\n",
    "### Necessary Corrections\n",
    "- Remove or replace special characters as needed.\n",
    "- Verify and correct the country names to match the list.\n"
   ]
  },
  {
   "cell_type": "markdown",
   "id": "c428d37a-3c1e-45db-9b19-4d109c570de0",
   "metadata": {},
   "source": [
    "### 5. Created a NER object."
   ]
  },
  {
   "cell_type": "code",
   "execution_count": 20,
   "id": "f14e4da2-da21-487f-aa40-982fefceb00e",
   "metadata": {},
   "outputs": [
    {
     "name": "stdout",
     "output_type": "stream",
     "text": [
      "Entity: Wikipedia, Label: ORG\n",
      "Entity: The 20th century, Label: DATE\n",
      "Entity: The World Wars, Label: ORG\n",
      "Entity: the Cold War, Label: EVENT\n",
      "Entity: the Space Race, Label: ORG\n"
     ]
    }
   ],
   "source": [
    "import spacy\n",
    "\n",
    "# Load the small English model\n",
    "nlp = spacy.load(\"en_core_web_sm\")\n",
    "\n",
    "# Process the text data to create the NER object\n",
    "doc = nlp(text_data)\n",
    "\n",
    "# Extract named entities\n",
    "entities = [(ent.text, ent.label_) for ent in doc.ents]\n",
    "\n",
    "# Print the named entities\n",
    "for entity in entities[:5]:\n",
    "    print(f\"Entity: {entity[0]}, Label: {entity[1]}\")\n"
   ]
  },
  {
   "cell_type": "code",
   "execution_count": 38,
   "id": "f9f2ab3b-f8bf-4693-9dc6-4cd20d26daa1",
   "metadata": {},
   "outputs": [
    {
     "name": "stdout",
     "output_type": "stream",
     "text": [
      "Entity: Wikipedia, Label: ORG\n",
      "Entity: The 20th century, Label: DATE\n",
      "Entity: The World Wars, Label: ORG\n",
      "Entity: the Cold War, Label: EVENT\n",
      "Entity: the Space Race, Label: ORG\n"
     ]
    }
   ],
   "source": [
    "import spacy\n",
    "\n",
    "# Load the small English model\n",
    "nlp = spacy.load(\"en_core_web_sm\")\n",
    "\n",
    "# Process the text data to create the NER object\n",
    "doc = nlp(text_data)\n",
    "\n",
    "# Iterate through each sentence in the doc\n",
    "for sent in doc.sents:\n",
    "   # print(f\"Sentence: {sent.text}\")\n",
    "    sent_entities = [(ent.text, ent.label_) for ent in sent.ents]\n",
    "   # print(\"Entities:\", sent_entities)\n",
    "   # print(\"-\" * 50)\n",
    "\n",
    "# Print the first 5 entities\n",
    "for entity in entities[:5]:\n",
    "    print(f\"Entity: {entity[0]}, Label: {entity[1]}\")\n",
    "\n",
    "\n",
    "\n"
   ]
  },
  {
   "cell_type": "markdown",
   "id": "ca9ddde2-eea4-4e83-9c26-33ba86e7720b",
   "metadata": {},
   "source": [
    "### 6. Splited the sentence entities from the NER object."
   ]
  },
  {
   "cell_type": "code",
   "execution_count": 34,
   "id": "b5e8dfa2-b5f8-44fb-a043-70ee1eb7c2b0",
   "metadata": {},
   "outputs": [
    {
     "name": "stdout",
     "output_type": "stream",
     "text": [
      "Entity: Wikipedia, Label: ORG\n",
      "Entity: The 20th century, Label: DATE\n",
      "Entity: The World Wars, Label: ORG\n",
      "Entity: the Cold War, Label: EVENT\n",
      "Entity: the Space Race, Label: ORG\n"
     ]
    }
   ],
   "source": [
    "import spacy\n",
    "\n",
    "# Load the small English model\n",
    "nlp = spacy.load(\"en_core_web_sm\")\n",
    "\n",
    "# Process the text data to create the NER object\n",
    "doc = nlp(text_data)\n",
    "\n",
    "# List to store the first 5 entities\n",
    "entities = []\n",
    "\n",
    "# Iterate through each sentence in the doc\n",
    "for sent in doc.sents:\n",
    "    # Collect the entities from the sentence\n",
    "    sent_entities = [(ent.text, ent.label_) for ent in sent.ents]\n",
    "    entities.extend(sent_entities)  # Add to the list of all entities\n",
    "    \n",
    "    # Stop if we've collected 5 entities\n",
    "    if len(entities) >= 5:\n",
    "        break\n",
    "\n",
    "# Print the first 5 entities\n",
    "for entity in entities[:5]:\n",
    "    print(f\"Entity: {entity[0]}, Label: {entity[1]}\")\n"
   ]
  },
  {
   "cell_type": "markdown",
   "id": "4709e5e6-db0c-41b5-9c6c-3847033a35f0",
   "metadata": {},
   "source": [
    "### 7. Filtered the entities with the countries list."
   ]
  },
  {
   "cell_type": "code",
   "execution_count": 42,
   "id": "8fbf255e-5ecf-4cb1-9fe2-bf07dde6d439",
   "metadata": {},
   "outputs": [
    {
     "name": "stdout",
     "output_type": "stream",
     "text": [
      "Entity: France, Label: GPE\n",
      "Entity: Austria, Label: GPE\n",
      "Entity: Hungary, Label: GPE\n",
      "Entity: Russia, Label: GPE\n",
      "Entity: Germany, Label: GPE\n"
     ]
    }
   ],
   "source": [
    "import spacy\n",
    "\n",
    "# Load the small English model\n",
    "nlp = spacy.load(\"en_core_web_sm\")\n",
    "\n",
    "# Define your list of countries (can be expanded)\n",
    "countries_list =  [\n",
    "    \"Afghanistan\", \"Albania\", \"Algeria\", \"Andorra\", \"Angola\", \"Antigua and Barbuda\", \"Argentina\", \"Armenia\",\n",
    "    \"Australia\", \"Austria\", \"Azerbaijan\", \"Bahamas\", \"Bahrain\", \"Bangladesh\", \"Barbados\", \"Belarus\", \"Belgium\",\n",
    "    \"Belize\", \"Benin\", \"Bhutan\", \"Bolivia\", \"Bosnia and Herzegovina\", \"Botswana\", \"Brazil\", \"Brunei\", \"Bulgaria\",\n",
    "    \"Burkina Faso\", \"Burundi\", \"Cambodia\", \"Cameroon\", \"Canada\", \"Cape Verde\", \"Central African Republic\", \n",
    "    \"Chad\", \"Chile\", \"China\", \"People's Republic of Colombia\", \"Comoros\", \"Congo\", \"Democratic Republic of the Congo\",\n",
    "    \"Republic of Costa Rica\", \"Croatia\", \"Cuba\", \"Cyprus\", \"Czech Republic\", \"Denmark\", \"Djibouti\", \"Dominica\", \n",
    "    \"Dominican Republic\", \"East Timor\", \"Ecuador\", \"Egypt\", \"El Salvador\", \"Equatorial Guinea\", \"Eritrea\", \n",
    "    \"Estonia\", \"Eswatini\", \"Ethiopia\", \"Fiji\", \"Finland\", \"France\", \"Gabon\", \"Gambia\", \"Georgia\", \"Germany\", \n",
    "    \"Ghana\", \"Greece\", \"Grenada\", \"Guatemala\", \"Guinea\", \"Guinea-Bissau\", \"Guyana\", \"Haiti\", \"Honduras\", \n",
    "    \"Hungary\", \"Iceland\", \"India\", \"Indonesia\", \"Iran\", \"Iraq\", \"Ireland\", \"Israel\", \"Italy\", \"Ivory Coast\", \n",
    "    \"Jamaica\", \"Japan\", \"Jordan\", \"Kazakhstan\", \"Kenya\", \"Kiribati\", \"Korea\", \"North Korea\", \"South Korea\", \n",
    "    \"Kuwait\", \"Kyrgyzstan\", \"Laos\", \"Latvia\", \"Lebanon\", \"Lesotho\", \"Liberia\", \"Libya\", \"Liechtenstein\", \n",
    "    \"Lithuania\", \"Luxembourg\", \"Madagascar\", \"Malawi\", \"Malaysia\", \"Maldives\", \"Mali\", \"Malta\", \"Marshall Islands\", \n",
    "    \"Mauritania\", \"Mauritius\", \"Mexico\", \"Micronesia\", \"Federated States of Moldova\", \"Monaco\", \"Mongolia\", \n",
    "    \"Montenegro\", \"Morocco\", \"Mozambique\", \"Myanmar\", \"Namibia\", \"Nauru\", \"Nepal\", \"Netherlands\", \n",
    "    \"New Zealand\", \"Nicaragua\", \"Niger\", \"Nigeria\", \"North Macedonia\", \"Norway\", \"Oman\", \"Pakistan\", \n",
    "    \"Palau\", \"Palestine\", \"Panama\", \"Papua New Guinea\", \"Paraguay\", \"Peru\", \"Philippines\", \"Poland\", \"Portugal\", \n",
    "    \"Qatar\", \"Romania\", \"Russia\", \"Rwanda\", \"Saint Kitts and Nevis\", \"Saint Lucia\", \"Saint Vincent and the Grenadines\", \n",
    "    \"Samoa\", \"San Marino\", \"SÃ£o TomÃ© and PrÃ­ncipe\", \"Saudi Arabia\", \"Senegal\", \"Serbia\", \"Seychelles\", \n",
    "    \"Sierra Leone\", \"Singapore\", \"Slovakia\", \"Slovenia\", \"Solomon Islands\", \"Somalia\", \"South Africa\", \"South Sudan\", \n",
    "    \"Spain\", \"Sri Lanka\", \"Sudan\", \"Suriname\", \"Sweden\", \"Switzerland\", \"Syria\", \"Tajikistan\", \"Tanzania\", \n",
    "    \"Thailand\", \"Togo\", \"Tonga\", \"Trinidad and Tobago\", \"Tunisia\", \"Turkey\", \"Turkmenistan\", \"Tuvalu\", \n",
    "    \"Uganda\", \"Ukraine\", \"United Arab Emirates\", \"United Kingdom\", \"United States\", \"Uruguay\", \"Uzbekistan\", \n",
    "    \"Vanuatu\", \"Vatican City (Holy See)\", \"Venezuela\", \"Vietnam\", \"Yemen\", \"Zambia\", \"Zimbabwe\", \"Abkhazia\", \n",
    "    \"Artsakh\", \"Cook Islands\", \"Donetsk People's Republic\", \"Kosovo\", \"Luhansk People's Republic\", \"Niue\", \n",
    "    \"Northern Cyprus\", \"Sahrawi Arab Democratic Republic\", \"Somaliland\", \"South Ossetia\", \"Taiwan\", \"Transnistria\"\n",
    "]\n",
    "\n",
    "# Process the text data to create the NER object\n",
    "doc = nlp(text_data)\n",
    "\n",
    "# List to store entities that are countries\n",
    "country_entities = []\n",
    "\n",
    "# Iterate through each sentence in the doc\n",
    "for sent in doc.sents:\n",
    "    # Collect entities labeled as GPE (Geopolitical Entity)\n",
    "    for ent in sent.ents:\n",
    "        if ent.label_ == \"GPE\" and ent.text in countries_list:\n",
    "            country_entities.append((ent.text, ent.label_))\n",
    "\n",
    "# Print the country entities\n",
    "for entity in country_entities[:5]:\n",
    "    print(f\"Entity: {entity[0]}, Label: {entity[1]}\")\n"
   ]
  },
  {
   "cell_type": "markdown",
   "id": "677b569b-ce00-4bad-bf10-1c0b3c464e1c",
   "metadata": {},
   "source": [
    "### 8. Created the relationships data frame. "
   ]
  },
  {
   "cell_type": "code",
   "execution_count": 44,
   "id": "acec86df-dfbc-42d9-aea0-1fe6c817ebdc",
   "metadata": {},
   "outputs": [
    {
     "name": "stdout",
     "output_type": "stream",
     "text": [
      "  Entity 1 Entity 2\n",
      "0   France  Austria\n",
      "1   France  Hungary\n",
      "2  Austria  Hungary\n",
      "3  Germany   Russia\n",
      "4  Germany    Italy\n"
     ]
    }
   ],
   "source": [
    "import spacy\n",
    "import pandas as pd\n",
    "\n",
    "# Load the small English model\n",
    "nlp = spacy.load(\"en_core_web_sm\")\n",
    "\n",
    "# Define your list of countries (can be expanded)\n",
    "countries_list = [\n",
    "    \"Afghanistan\", \"Albania\", \"Algeria\", \"Andorra\", \"Angola\", \"Antigua and Barbuda\", \"Argentina\", \"Armenia\",\n",
    "    \"Australia\", \"Austria\", \"Azerbaijan\", \"Bahamas\", \"Bahrain\", \"Bangladesh\", \"Barbados\", \"Belarus\", \"Belgium\",\n",
    "    \"Belize\", \"Benin\", \"Bhutan\", \"Bolivia\", \"Bosnia and Herzegovina\", \"Botswana\", \"Brazil\", \"Brunei\", \"Bulgaria\",\n",
    "    \"Burkina Faso\", \"Burundi\", \"Cambodia\", \"Cameroon\", \"Canada\", \"Cape Verde\", \"Central African Republic\", \n",
    "    \"Chad\", \"Chile\", \"China\", \"People's Republic of Colombia\", \"Comoros\", \"Congo\", \"Democratic Republic of the Congo\",\n",
    "    \"Republic of Costa Rica\", \"Croatia\", \"Cuba\", \"Cyprus\", \"Czech Republic\", \"Denmark\", \"Djibouti\", \"Dominica\", \n",
    "    \"Dominican Republic\", \"East Timor\", \"Ecuador\", \"Egypt\", \"El Salvador\", \"Equatorial Guinea\", \"Eritrea\", \n",
    "    \"Estonia\", \"Eswatini\", \"Ethiopia\", \"Fiji\", \"Finland\", \"France\", \"Gabon\", \"Gambia\", \"Georgia\", \"Germany\", \n",
    "    \"Ghana\", \"Greece\", \"Grenada\", \"Guatemala\", \"Guinea\", \"Guinea-Bissau\", \"Guyana\", \"Haiti\", \"Honduras\", \n",
    "    \"Hungary\", \"Iceland\", \"India\", \"Indonesia\", \"Iran\", \"Iraq\", \"Ireland\", \"Israel\", \"Italy\", \"Ivory Coast\", \n",
    "    \"Jamaica\", \"Japan\", \"Jordan\", \"Kazakhstan\", \"Kenya\", \"Kiribati\", \"Korea\", \"North Korea\", \"South Korea\", \n",
    "    \"Kuwait\", \"Kyrgyzstan\", \"Laos\", \"Latvia\", \"Lebanon\", \"Lesotho\", \"Liberia\", \"Libya\", \"Liechtenstein\", \n",
    "    \"Lithuania\", \"Luxembourg\", \"Madagascar\", \"Malawi\", \"Malaysia\", \"Maldives\", \"Mali\", \"Malta\", \"Marshall Islands\", \n",
    "    \"Mauritania\", \"Mauritius\", \"Mexico\", \"Micronesia\", \"Federated States of Moldova\", \"Monaco\", \"Mongolia\", \n",
    "    \"Montenegro\", \"Morocco\", \"Mozambique\", \"Myanmar\", \"Namibia\", \"Nauru\", \"Nepal\", \"Netherlands\", \n",
    "    \"New Zealand\", \"Nicaragua\", \"Niger\", \"Nigeria\", \"North Macedonia\", \"Norway\", \"Oman\", \"Pakistan\", \n",
    "    \"Palau\", \"Palestine\", \"Panama\", \"Papua New Guinea\", \"Paraguay\", \"Peru\", \"Philippines\", \"Poland\", \"Portugal\", \n",
    "    \"Qatar\", \"Romania\", \"Russia\", \"Rwanda\", \"Saint Kitts and Nevis\", \"Saint Lucia\", \"Saint Vincent and the Grenadines\", \n",
    "    \"Samoa\", \"San Marino\", \"SÃ£o TomÃ© and PrÃ­ncipe\", \"Saudi Arabia\", \"Senegal\", \"Serbia\", \"Seychelles\", \n",
    "    \"Sierra Leone\", \"Singapore\", \"Slovakia\", \"Slovenia\", \"Solomon Islands\", \"Somalia\", \"South Africa\", \"South Sudan\", \n",
    "    \"Spain\", \"Sri Lanka\", \"Sudan\", \"Suriname\", \"Sweden\", \"Switzerland\", \"Syria\", \"Tajikistan\", \"Tanzania\", \n",
    "    \"Thailand\", \"Togo\", \"Tonga\", \"Trinidad and Tobago\", \"Tunisia\", \"Turkey\", \"Turkmenistan\", \"Tuvalu\", \n",
    "    \"Uganda\", \"Ukraine\", \"United Arab Emirates\", \"United Kingdom\", \"United States\", \"Uruguay\", \"Uzbekistan\", \n",
    "    \"Vanuatu\", \"Vatican City (Holy See)\", \"Venezuela\", \"Vietnam\", \"Yemen\", \"Zambia\", \"Zimbabwe\", \"Abkhazia\", \n",
    "    \"Artsakh\", \"Cook Islands\", \"Donetsk People's Republic\", \"Kosovo\", \"Luhansk People's Republic\", \"Niue\", \n",
    "    \"Northern Cyprus\", \"Sahrawi Arab Democratic Republic\", \"Somaliland\", \"South Ossetia\", \"Taiwan\", \"Transnistria\"\n",
    "]\n",
    "\n",
    "# Process the text data to create the NER object\n",
    "doc = nlp(text_data)\n",
    "\n",
    "# List to store relationships (pairs of entities)\n",
    "relationships = []\n",
    "\n",
    "# Iterate through each sentence in the doc\n",
    "for sent in doc.sents:\n",
    "    # Extract entities from the sentence\n",
    "    entities = [ent for ent in sent.ents if ent.label_ == \"GPE\" and ent.text in countries_list]\n",
    "    \n",
    "    # If more than one country entity exists in the sentence, create pairs\n",
    "    if len(entities) > 1:\n",
    "        for i in range(len(entities)):\n",
    "            for j in range(i + 1, len(entities)):\n",
    "                relationships.append((entities[i].text, entities[j].text))\n",
    "\n",
    "# Create a dataframe from the relationships list\n",
    "relationships_df = pd.DataFrame(relationships, columns=[\"Entity 1\", \"Entity 2\"])\n",
    "\n",
    "# Display the dataframe\n",
    "print(relationships_df.head())  # Prints the first few rows of the relationships dataframe\n"
   ]
  },
  {
   "cell_type": "markdown",
   "id": "030973d0-d162-466a-b684-aac798594712",
   "metadata": {},
   "source": [
    "### 10. Saved and exported the data frame. "
   ]
  },
  {
   "cell_type": "code",
   "execution_count": 46,
   "id": "8ae92954-696a-4f3a-81c8-666f0bf2cf29",
   "metadata": {},
   "outputs": [
    {
     "name": "stdout",
     "output_type": "stream",
     "text": [
      "Dataframe saved to P:\\CarrerFoundy\\Data Visualizations with Python\\Exercise 1.6\\relationships.csv\n"
     ]
    }
   ],
   "source": [
    "# Define the file path where you want to save the CSV\n",
    "output_file_path = r\"P:\\CarrerFoundy\\Data Visualizations with Python\\Exercise 1.6\\relationships.csv\"\n",
    "\n",
    "# Save the dataframe to a CSV file\n",
    "relationships_df.to_csv(output_file_path, index=False)\n",
    "\n",
    "print(f\"Dataframe saved to {output_file_path}\")\n"
   ]
  },
  {
   "cell_type": "code",
   "execution_count": null,
   "id": "f5350e73-3f98-4474-8d47-e46f1a4b63e4",
   "metadata": {},
   "outputs": [],
   "source": []
  }
 ],
 "metadata": {
  "kernelspec": {
   "display_name": "Python (venv2)",
   "language": "python",
   "name": "venv2"
  },
  "language_info": {
   "codemirror_mode": {
    "name": "ipython",
    "version": 3
   },
   "file_extension": ".py",
   "mimetype": "text/x-python",
   "name": "python",
   "nbconvert_exporter": "python",
   "pygments_lexer": "ipython3",
   "version": "3.12.3"
  }
 },
 "nbformat": 4,
 "nbformat_minor": 5
}
